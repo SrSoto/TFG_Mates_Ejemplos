{
 "cells": [
  {
   "cell_type": "markdown",
   "id": "precise-relative",
   "metadata": {},
   "source": [
    "En el siguiente notebook procedemos a aplicar paso a paso en código lo realizado en el ejemplo de la memoria, Sección 5.4. Recordemos el contexto del ejemplo:\n",
    "\n",
    "* Un cierto usuario *Alice* dispone de su clave asimétrica. Recordemos $\\mathcal{P}: \\mathbb{F}^n \\mapsto \\mathbb{F}^m$ su clave pública y $\\mathcal{P}^{-1} = \\mathcal{T}^{-1}(\\mathcal{F}^{-1}(\\mathcal{S}^{-1}))$ su clave privada.\n",
    "* Una segunda parte, *Bob*, cifra para Alice un mensaje $\\mathbf{z} \\in \\mathbb{F}^n$ utilizando su clave pública generando $\\mathbf{w} = \\mathcal{P}(\\mathbf{z})$.\n",
    "* Por último, entramos en este ejemplo como la parte maliciosa *Eve*. Suponiendo haber interceptado la comunicación entre Alice y Bob, por nuestra parte conocemos únicamente el mensaje cifrado $\\mathbf{w}$ y la clave pública de Alice $\\mathcal{P}$.\n",
    "\n",
    "Con ello, nuestro objetivo consistirá en resolver el sistema $\\mathcal{P} = \\mathbf{w}$. Recordemos la \"defensa\" inerte de los cuerpos finitos utilizados, que nos dan lugar a tener que repetir el proceso entero cada vez que se quiera hallar un nuevo $\\mathbf{w}$. Vamos a elegir nuestros parámetros:\n",
    "\n",
    "* $n$, dimensión de partida de $\\mathcal{P}$.\n",
    "* $m$, dimensión del espacio de llegada de $\\mathcal{P}$.\n",
    "* $q$, cardinal del cuerpo finito sobre el que se construyen los anillos polinomiales $\\mathbb{F}_q[x_1,\\cdots,x_n]$.\n"
   ]
  },
  {
   "cell_type": "code",
   "execution_count": 4,
   "id": "brilliant-resort",
   "metadata": {},
   "outputs": [],
   "source": [
    "n = 4\n",
    "m = 4\n",
    "q = 4"
   ]
  },
  {
   "cell_type": "markdown",
   "id": "recovered-february",
   "metadata": {},
   "source": [
    "A continuación pasamos a declarar en Sage los tres grupos sobre los que vamos a trabajar: El cuerpo finito $\\mathbb{K}$ y los anillos de polinomios $\\mathbb{F}_q[x_1,\\cdots,x_n]$, $\\mathbb{F}_q[x_1,\\cdots,x_m]$. Destacamos el establecimiento del orden monomial lexicográfico en ambos anillos, necesario para más adelante proceder a resolver el sistema por eliminación."
   ]
  },
  {
   "cell_type": "code",
   "execution_count": 5,
   "id": "outside-leather",
   "metadata": {},
   "outputs": [
    {
     "name": "stdout",
     "output_type": "stream",
     "text": [
      "Defining x_0, x_1, x_2, x_3\n",
      "Defining x_0, x_1, x_2, x_3\n"
     ]
    }
   ],
   "source": [
    "K.<alpha> = FiniteField(q)\n",
    "F_n = PolynomialRing(K, 'x_', n, order=\"lex\")\n",
    "F_m = PolynomialRing(K, 'x_', m,order=\"lex\")\n",
    "\n",
    "F_n.inject_variables()\n",
    "F_m.inject_variables()"
   ]
  },
  {
   "cell_type": "markdown",
   "id": "attempted-democracy",
   "metadata": {},
   "source": [
    "Generamos aleatoriamente un sistema polinomial $\\mathcal{P}$, que consistirá en $m$ elementos aleatorios de $\\mathbb{F}[x_1,\\cdots,x_n]$. Dejamos a su vez una línea donde se declara $\\mathcal{P}$ como en el ejemplo de la memoria."
   ]
  },
  {
   "cell_type": "code",
   "execution_count": 6,
   "id": "roman-contrast",
   "metadata": {},
   "outputs": [
    {
     "name": "stdout",
     "output_type": "stream",
     "text": [
      "POLINOMIO P:\n",
      "\\left[\\left(\\alpha + 1\\right) x_{0} x_{2} + \\alpha x_{2} x_{3} + \\alpha x_{2}, x_{2} x_{3}, x_{1}^{2} + x_{1} x_{3} + \\alpha x_{1} + \\alpha x_{2} x_{3}, x_{1} + \\alpha x_{3}^{2} + 1\\right]\n"
     ]
    }
   ],
   "source": [
    "P = [F_n.random_element(degree=2) for _ in range(m)]\n",
    "P = [(alpha + 1) * x_0 * x_2 + alpha * x_2 * x_3 + alpha * x_2, x_2 * x_3, x_1**2 + x_1 * x_3 + alpha * x_1 + alpha * x_2 * x_3, x_1 + alpha * x_3**2 + 1]\n",
    "\n",
    "print(\"POLINOMIO P:\")\n",
    "print(latex(P))"
   ]
  },
  {
   "cell_type": "markdown",
   "id": "bright-thinking",
   "metadata": {},
   "source": [
    "De manera análoga, generamos el mensaje secreto $\\mathbf{z}$ y lo ciframos como $\\mathbf{w} = \\mathcal{P}(\\mathbf{z})$. Recordemos que *Eve* carece de información alguna sobre $\\mathbf{z}$ (aunque lo mostramos para cerciorarnos de haber descifrado correctamente), si bien ha interceptado en la comunicación entre *Alice* y *Bob* el texto cifrado $\\mathbf{w}$. Dejamos una línea con la asignación de $\\mathbf{z}$ como en el ejemplo."
   ]
  },
  {
   "cell_type": "code",
   "execution_count": 9,
   "id": "secondary-rates",
   "metadata": {},
   "outputs": [
    {
     "name": "stdout",
     "output_type": "stream",
     "text": [
      "TEXTO PLANO z:\n",
      "\\left[\\alpha + 1, 0, \\alpha + 1, \\alpha\\right]\n",
      "TEXTO CIFRADO w:\n",
      "\\left[\\alpha, 1, \\alpha, 0\\right]\n"
     ]
    }
   ],
   "source": [
    "z = [K.random_element() for _ in range(n)]\n",
    "z = [alpha + 1, 0, alpha + 1, alpha]\n",
    "print(\"TEXTO PLANO z:\")\n",
    "print(latex(z))\n",
    "\n",
    "w = [p(z) for p in P]\n",
    "print(\"TEXTO CIFRADO w:\")\n",
    "print(latex(w))"
   ]
  },
  {
   "cell_type": "markdown",
   "id": "daily-overview",
   "metadata": {},
   "source": [
    "A continuación, creamos el sistema de polinomios (simplemente restar $\\mathbf{w}$) y obtenemos del mismo tanto su ideal como su base de Gröbner según el orden lexicográfico. El paso de declaración del ideal $I$ es simple puesto que ya conocemos los polinomios de $\\mathcal{P}'$; sin embargo, ya hemos visto a lo largo de la memoria varios algoritmos de creación de bases de Gröbner y su dificultad. Por simplicidad de código, usaremos el método ya implementado por Sage."
   ]
  },
  {
   "cell_type": "code",
   "execution_count": 10,
   "id": "behavioral-badge",
   "metadata": {},
   "outputs": [
    {
     "name": "stdout",
     "output_type": "stream",
     "text": [
      "BASE DE GRÖBNER G:\n",
      "\\left[x_{0} + \\alpha + 1, x_{1} + \\alpha x_{3}^{2} + 1, x_{2} + x_{3}^{3} + \\left(\\alpha + 1\\right) x_{3}^{2} + x_{3} + \\alpha, x_{3}^{4} + \\left(\\alpha + 1\\right) x_{3}^{3} + x_{3}^{2} + \\alpha x_{3} + 1\\right]\n"
     ]
    }
   ],
   "source": [
    "P_sistema = [P[i] - w[i] for i in range(m)]\n",
    "\n",
    "I = ideal(P_sistema)\n",
    "G = I.groebner_basis()\n",
    "\n",
    "print(\"BASE DE GRÖBNER G:\")\n",
    "print(latex(G))"
   ]
  },
  {
   "cell_type": "markdown",
   "id": "limiting-installation",
   "metadata": {},
   "source": [
    "A continuación se define una función que ilustra la resolución por eliminación de un sistema multivariable dada su base de Gröbner lexicográfica. Se implementa el método de forma recursiva para dar más luz al hecho de cómo cada problema de eliminación se va reduciendo a cada ideal $I_j,\\ j=0,\\cdots,n$. Se deja un `print` para comprender a cada paso cómo se forma un árbol de relaciones entre las variables, sus posibles raíces y, con ello, de los posibles valores de $\\mathbf{z}$, elementos pertenecientes a la variedad afín generada por el ideal de $\\mathcal{P}'$."
   ]
  },
  {
   "cell_type": "code",
   "execution_count": 16,
   "id": "reduced-orlando",
   "metadata": {},
   "outputs": [],
   "source": [
    "def eliminacion_grobner(G,roots=None,var_order=None,l=0):\n",
    "    # Preparar diccionario de posibles valores\n",
    "    if not roots:\n",
    "        roots = { \"x_\"+str(i) : [] for i in range(G.nvariables())}\n",
    "    if not var_order:\n",
    "        var_order = []\n",
    "    \n",
    "    # Sustituir esos valores en g y extraer los de una variable\n",
    "    g_elim = [g for g in G if g.nvariables() == 1]\n",
    "    if not g_elim:\n",
    "        return roots\n",
    "\n",
    "    # Copiar la base de Gröbner, de la cual retiramos los polinomios univariable\n",
    "    G_nueva = list(G)\n",
    "    G_nueva = [g for g in G_nueva if g not in g_elim]\n",
    "\n",
    "    # Para cada polinomio univariable\n",
    "    for g in g_elim:\n",
    "        # \"Apuntamos\" la variable de la que depende\n",
    "        var = g.variable()\n",
    "        var_order.append(var)\n",
    "        # Obtenemos sus raíces\n",
    "        g_roots = [ r[0] for r in g.univariate_polynomial().roots()]\n",
    "        # Las añadimos al árbol de raíces\n",
    "        roots[str(var)].append(g_roots)\n",
    "\n",
    "        # Para cada posible raíz\n",
    "        for r in g_roots:\n",
    "            print(\"\\t\"*l + \"{} ~~> PROBANDO CON {} = {}\".format(str(l),str(var),str(r)))\n",
    "            # Generamos la nueva base de Gröbner en la que se evalúa el x_i de g\n",
    "            G_eval = [g(**{str(var): r}) for g in G_nueva]\n",
    "            # Volvemos a resolver por eliminación la base remanente\n",
    "            eliminacion_grobner(G_eval,roots,var_order,l+1)\n",
    "\n",
    "    return roots, var_order"
   ]
  },
  {
   "cell_type": "markdown",
   "id": "smaller-royal",
   "metadata": {},
   "source": [
    "Se devuelven dos objetos a la salida de `eliminacion_grobner`:\n",
    "\n",
    "* `roots` es un diccionario de par variable/posibles raíces. Estas posibles raíces se almacenan como listas de listas, donde elementos de una misma lista indican ráices múltiples en una misma $G$, mientras que raíces en distintas listas indican que dichos valores dependerán del valor múltiple de otra variable (de esta forma se pasa a formar un árbol de raíces de los polinomios.\n",
    "* `var_order` hace referencia al orden de exploración realizado. Se utiliza para poder construir e interpretar el árbol de soluciones dado el diccionario `roots`."
   ]
  },
  {
   "cell_type": "code",
   "execution_count": 17,
   "id": "infinite-lucas",
   "metadata": {},
   "outputs": [
    {
     "name": "stdout",
     "output_type": "stream",
     "text": [
      "0 ~~> PROBANDO CON x_0 = alpha + 1\n",
      "0 ~~> PROBANDO CON x_3 = 1\n",
      "\t1 ~~> PROBANDO CON x_1 = alpha + 1\n",
      "\t1 ~~> PROBANDO CON x_2 = 1\n",
      "0 ~~> PROBANDO CON x_3 = alpha\n",
      "\t1 ~~> PROBANDO CON x_1 = 0\n",
      "\t1 ~~> PROBANDO CON x_2 = alpha + 1\n"
     ]
    },
    {
     "data": {
      "text/plain": [
       "({'x_0': [[alpha + 1]],\n",
       "  'x_1': [[alpha + 1], [0]],\n",
       "  'x_2': [[1], [alpha + 1]],\n",
       "  'x_3': [[1, alpha]]},\n",
       " [x_0, x_3, x_1, x_2, x_1, x_2])"
      ]
     },
     "execution_count": 17,
     "metadata": {},
     "output_type": "execute_result"
    }
   ],
   "source": [
    "eliminacion_grobner(G)"
   ]
  },
  {
   "cell_type": "markdown",
   "id": "floral-combat",
   "metadata": {},
   "source": [
    "Interpretamos de la salida un árbol de soluciones como el siguiente (nos remitimos al ejemplo de la memoria):\n",
    "\n",
    "```\n",
    "x_0         x_3        x_1      x_2\n",
    "alpha+1 ---  1 ------ alpha+1 --  1\n",
    "        |                      \n",
    "        \\-- alpha -----  0 ---- alpha+1\n",
    "```\n",
    "\n",
    "Luego los dos elementos de la variedad afín son los dos posibles recorridos del nodo raíz a los nodos hoja:\n",
    "\n",
    "1. $\\mathbf{z} = (\\alpha+1,\\alpha+1,1,1)$\n",
    "2. $\\mathbf{z} = (\\alpha+1,0,\\alpha+1,\\alpha)$\n",
    "\n",
    "De entre los cuales sabemos que el texto plano es la segunda opción."
   ]
  },
  {
   "cell_type": "markdown",
   "id": "decent-mother",
   "metadata": {},
   "source": [
    "Se adjunta por último una función para generar ejemplos variando los parámetros iniciales $q,m,n$."
   ]
  },
  {
   "cell_type": "code",
   "execution_count": 20,
   "id": "exterior-pillow",
   "metadata": {},
   "outputs": [],
   "source": [
    "def generar_ejemplo_q(n,m,q,verbose=False):\n",
    "    K.<alpha> = FiniteField(q)\n",
    "    F_n = PolynomialRing(K, 'x_', n, order=\"lex\")\n",
    "    F_m = PolynomialRing(K, 'x_', m,order=\"lex\")\n",
    "    F.<x_0> = PolynomialRing(K,'x_0',1)\n",
    "\n",
    "    F_n.inject_variables()\n",
    "    F_m.inject_variables()\n",
    "    \n",
    "    P = [F_n.random_element(degree=2) for _ in range(m)]\n",
    "\n",
    "    if verbose:\n",
    "        print(\"POLINOMIO P:\")\n",
    "        print(latex(P))\n",
    "    \n",
    "    z = [K.random_element() for _ in range(n)]\n",
    "    if verbose:\n",
    "        print(\"MENSAJE PRIVADO z:\")\n",
    "        print(latex(z))\n",
    "\n",
    "    w = [p(z) for p in P]\n",
    "    if verbose:\n",
    "        print(\"MENSAJE CIFRADO w:\")\n",
    "        print(latex(w))\n",
    "    \n",
    "    P_sistema = [P[i] - w[i] for i in range(m)]\n",
    "    I = ideal(P_sistema)\n",
    "    G = I.groebner_basis()\n",
    "    if verbose:\n",
    "        print(latex(G))\n",
    "    \n",
    "    return eliminacion_grobner(G)[0]"
   ]
  },
  {
   "cell_type": "code",
   "execution_count": 21,
   "id": "attended-assurance",
   "metadata": {},
   "outputs": [
    {
     "name": "stdout",
     "output_type": "stream",
     "text": [
      "Defining x_0, x_1, x_2, x_3, x_4, x_5\n",
      "Defining x_0, x_1, x_2, x_3, x_4, x_5\n",
      "0 ~~> PROBANDO CON x_5 = 2*alpha\n",
      "\t1 ~~> PROBANDO CON x_2 = 0\n",
      "\t\t2 ~~> PROBANDO CON x_0 = 2*alpha + 1\n",
      "\t\t2 ~~> PROBANDO CON x_1 = alpha\n",
      "\t1 ~~> PROBANDO CON x_2 = 2\n",
      "\t\t2 ~~> PROBANDO CON x_0 = 2*alpha + 2\n",
      "\t\t2 ~~> PROBANDO CON x_1 = 2\n",
      "\t1 ~~> PROBANDO CON x_2 = 2\n",
      "\t\t2 ~~> PROBANDO CON x_0 = 2*alpha + 2\n",
      "\t\t2 ~~> PROBANDO CON x_1 = 2\n",
      "\t1 ~~> PROBANDO CON x_3 = alpha + 1\n",
      "\t1 ~~> PROBANDO CON x_4 = 1\n",
      "0 ~~> PROBANDO CON x_5 = 2*alpha + 1\n",
      "\t1 ~~> PROBANDO CON x_3 = 0\n",
      "\t1 ~~> PROBANDO CON x_4 = 2*alpha\n"
     ]
    },
    {
     "data": {
      "text/plain": [
       "{'x_0': [[2*alpha + 1], [2*alpha + 2], [2*alpha + 2]],\n",
       " 'x_1': [[alpha], [2], [2]],\n",
       " 'x_2': [[0, 2], [2], []],\n",
       " 'x_3': [[alpha + 1], [0]],\n",
       " 'x_4': [[1], [2*alpha]],\n",
       " 'x_5': [[2*alpha, 2*alpha + 1]]}"
      ]
     },
     "execution_count": 21,
     "metadata": {},
     "output_type": "execute_result"
    }
   ],
   "source": [
    "generar_ejemplo_q(6,6,9)"
   ]
  },
  {
   "cell_type": "markdown",
   "id": "dominant-synthetic",
   "metadata": {},
   "source": [
    "Mediante el comando `%time` de Jupyter podemos medir los tiempos de generación y resolución de los ejemplos para cercionarnos de cómo escala exponencialmente la complejidad del problema (atención a `Wall time` en la salida)."
   ]
  },
  {
   "cell_type": "code",
   "execution_count": 26,
   "id": "multiple-lloyd",
   "metadata": {},
   "outputs": [
    {
     "name": "stdout",
     "output_type": "stream",
     "text": [
      "Defining x_0, x_1, x_2, x_3, x_4, x_5, x_6, x_7\n",
      "Defining x_0, x_1, x_2, x_3, x_4, x_5, x_6, x_7\n",
      "0 ~~> PROBANDO CON x_7 = alpha^3\n",
      "\t1 ~~> PROBANDO CON x_0 = alpha^3 + alpha^2\n",
      "\t1 ~~> PROBANDO CON x_1 = alpha + 1\n",
      "\t1 ~~> PROBANDO CON x_2 = alpha^3 + alpha + 1\n",
      "\t1 ~~> PROBANDO CON x_3 = alpha^3\n",
      "\t1 ~~> PROBANDO CON x_4 = alpha^3 + alpha + 1\n",
      "\t1 ~~> PROBANDO CON x_5 = alpha^3\n",
      "\t1 ~~> PROBANDO CON x_6 = alpha^2 + 1\n",
      "CPU times: user 32 s, sys: 24 ms, total: 32 s\n",
      "Wall time: 32 s\n"
     ]
    },
    {
     "data": {
      "text/plain": [
       "{'x_0': [[alpha^3 + alpha^2]],\n",
       " 'x_1': [[alpha + 1]],\n",
       " 'x_2': [[alpha^3 + alpha + 1]],\n",
       " 'x_3': [[alpha^3]],\n",
       " 'x_4': [[alpha^3 + alpha + 1]],\n",
       " 'x_5': [[alpha^3]],\n",
       " 'x_6': [[alpha^2 + 1]],\n",
       " 'x_7': [[alpha^3]]}"
      ]
     },
     "execution_count": 26,
     "metadata": {},
     "output_type": "execute_result"
    }
   ],
   "source": [
    "%time generar_ejemplo_q(8,8,16)"
   ]
  }
 ],
 "metadata": {
  "kernelspec": {
   "display_name": "SageMath 8.7",
   "language": "",
   "name": "sagemath"
  },
  "language_info": {
   "codemirror_mode": {
    "name": "ipython",
    "version": 2
   },
   "file_extension": ".py",
   "mimetype": "text/x-python",
   "name": "python",
   "nbconvert_exporter": "python",
   "pygments_lexer": "ipython2",
   "version": "2.7.15"
  }
 },
 "nbformat": 4,
 "nbformat_minor": 5
}
