{
 "cells": [
  {
   "cell_type": "markdown",
   "id": "imported-sellers",
   "metadata": {},
   "source": [
    "## Ejemplo de verificación del esquema MQ\n",
    "\n",
    "*Autor:* Manuel Soto Jiménez  \n",
    "*Tutora:* María Ángeles Zurro Moro"
   ]
  },
  {
   "cell_type": "markdown",
   "id": "victorian-weather",
   "metadata": {},
   "source": [
    "En el siguiente notebook se muestra el código utilizado para generar ejemplos de verificación de identidad del esquema MQ, tal y como aparece en la Sección 5.2.1 de la memoria del trabajo. Recordemos la situación a simular:\n",
    "\n",
    "* Un usuario, *Alice*, quien ha de identificarse, quiere demostrar el conocimiento de su clave privada $\\mathbf{s} \\in \\mathbb{F}^n$ sin, por supuesto, mostrar qué clave es.\n",
    "* Un segundo usuario, *Bob*, la parte verificante, quiere comprobar que en efecto se comunica con Alice a partir de pedirle uno de entre tres *challenges* $c_i$ que consistirán en comprobaciones aritméticas con $\\mathcal{P}, \\mathcal{P}(\\mathbf{s})$ y una serie de valores $\\mathbf{r}_0, \\mathbf{r}_1, \\mathbf{t}_0, \\mathbf{t}_1 \\in \\mathbb{F}^n$, $\\mathbf{e}_0, \\mathbf{e}_1 \\in \\mathbb{F}^m$; cuya obtención ha sido explicada a lo largo de la memoria.\n",
    "\n",
    "Definamos primero nuestros parámetros con respecto a dimensiones y órdenes de los anillos sobre los que trabajar."
   ]
  },
  {
   "cell_type": "code",
   "execution_count": 23,
   "id": "competitive-january",
   "metadata": {},
   "outputs": [],
   "source": [
    "q = 4\n",
    "n = 4\n",
    "m = 6"
   ]
  },
  {
   "cell_type": "markdown",
   "id": "empty-medicine",
   "metadata": {},
   "source": [
    "Creamos con ello el cuerpo $\\mathbb{F}_q$ y los anillos polinomiales del espacio de salida y llegada. Hacemos uso de `inject_variables()` para establecer las $x_i$ sobre las que se computa."
   ]
  },
  {
   "cell_type": "code",
   "execution_count": 24,
   "id": "exciting-writing",
   "metadata": {},
   "outputs": [
    {
     "name": "stdout",
     "output_type": "stream",
     "text": [
      "Defining x_0, x_1, x_2, x_3\n",
      "Defining x_0, x_1, x_2, x_3, x_4, x_5\n"
     ]
    }
   ],
   "source": [
    "K.<alpha> = FiniteField(q)\n",
    "F_n = PolynomialRing(K, 'x_', n, order=\"lex\")\n",
    "F_m = PolynomialRing(K, 'x_', m,order=\"lex\")\n",
    "\n",
    "F_n.inject_variables()\n",
    "F_m.inject_variables()"
   ]
  },
  {
   "cell_type": "markdown",
   "id": "waiting-punch",
   "metadata": {},
   "source": [
    "A continuación generamos aleatoriamente $\\mathcal{P}$. Realmente este paso no sería aleatorio, sino que esta función consistiría en la clave pública de *Alice*, con clave privada $\\mathcal{P}^{-1} = \\mathcal{T}^{-1}(\\mathcal{F}^{-1}(\\mathcal{S}^{-1}))$. Eliminamos términos constantes de cada polinomio para simplificar cálculos de la forma polar $\\mathcal{G}$."
   ]
  },
  {
   "cell_type": "code",
   "execution_count": 25,
   "id": "logical-attitude",
   "metadata": {},
   "outputs": [
    {
     "name": "stdout",
     "output_type": "stream",
     "text": [
      "\\left[\\alpha x_{0} x_{3} + \\alpha x_{0} + \\left(\\alpha + 1\\right) x_{2}, \\left(\\alpha + 1\\right) x_{1} x_{2} + \\left(\\alpha + 1\\right) x_{2}^{2} + \\left(\\alpha + 1\\right) x_{3}^{2}, \\alpha x_{1}^{2} + \\left(\\alpha + 1\\right) x_{2}^{2} + \\alpha x_{3}, \\left(\\alpha + 1\\right) x_{1} x_{2} + \\alpha x_{2}^{2} + x_{3}^{2}, \\alpha x_{1}^{2} + \\alpha x_{1} x_{2} + \\alpha x_{2} x_{3} + \\alpha x_{2}, \\alpha x_{0} x_{1} + x_{0} x_{2} + x_{0} x_{3} + \\alpha x_{3}^{2}\\right]\n"
     ]
    }
   ],
   "source": [
    "# los hacemos sin terminos constantes para simplicidad en la forma polar\n",
    "\n",
    "p_prev = [F_n.random_element(degree=2) for _ in range(m)]\n",
    "p = [f - f.constant_coefficient() for f in p_prev]\n",
    "\n",
    "print(latex(p))"
   ]
  },
  {
   "cell_type": "markdown",
   "id": "southeast-throat",
   "metadata": {},
   "source": [
    "Obtenemos a continuación una clave privada $\\mathbf{s}$ y calculamos $\\mathbf{v} = \\mathcal{P}(\\mathbf{s})$."
   ]
  },
  {
   "cell_type": "code",
   "execution_count": 26,
   "id": "mediterranean-prior",
   "metadata": {},
   "outputs": [
    {
     "name": "stdout",
     "output_type": "stream",
     "text": [
      "[alpha + 1, 0, 1, alpha]\n",
      "[0, 1, 0, 1, 1, alpha + 1]\n"
     ]
    }
   ],
   "source": [
    "s = [K.random_element() for _ in range(n)]\n",
    "print(s)\n",
    "v = [f(s) for f in p]\n",
    "print(v)"
   ]
  },
  {
   "cell_type": "markdown",
   "id": "respective-pharmacy",
   "metadata": {},
   "source": [
    "Los siguientes valores recordemos que serán generados aleatoriamente para cada ronda de identificación entre Alice y Bob: $\\mathbf{r}_0, \\mathbf{t}_0 \\in \\mathbb{F}^n$, $\\mathbf{e}_0 \\in \\mathbb{F}^m$."
   ]
  },
  {
   "cell_type": "code",
   "execution_count": 27,
   "id": "polar-spirituality",
   "metadata": {},
   "outputs": [
    {
     "name": "stdout",
     "output_type": "stream",
     "text": [
      "([alpha, alpha + 1, alpha + 1, alpha + 1], [alpha + 1, 1, 1, alpha + 1], [0, alpha + 1, alpha + 1, 0, 0, 0])\n"
     ]
    }
   ],
   "source": [
    "r_0 = [K.random_element() for _ in range(n)]\n",
    "t_0 = [K.random_element() for _ in range(n)]\n",
    "e_0 = [K.random_element() for _ in range(m)]\n",
    "\n",
    "print((r_0,t_0,e_0))"
   ]
  },
  {
   "cell_type": "markdown",
   "id": "serious-departure",
   "metadata": {},
   "source": [
    "A continuación calculamos $\\mathbf{r}_1, \\mathbf{t}_1 \\in \\mathbb{F}^n$, $\\mathbf{e}_1 \\in \\mathbb{F}^m$ a partir de los tres valores anteriores junto a $\\mathbf{s}$ y $\\mathcal{P}$."
   ]
  },
  {
   "cell_type": "code",
   "execution_count": 28,
   "id": "established-choice",
   "metadata": {},
   "outputs": [
    {
     "name": "stdout",
     "output_type": "stream",
     "text": [
      "([1, alpha + 1, alpha, 1], [1, alpha, alpha, 0], [alpha + 1, alpha, 0, 0, alpha, 1])\n"
     ]
    }
   ],
   "source": [
    "r_1 = [s[i] - r_0[i] for i in range(n)]\n",
    "t_1 = [r_0[i] - t_0[i] for i in range(n)]\n",
    "e_1 = [p[i](r_0) - e_0[i] for i in range(m)]\n",
    "\n",
    "print((r_1,t_1,e_1))"
   ]
  },
  {
   "cell_type": "markdown",
   "id": "simple-medicaid",
   "metadata": {},
   "source": [
    "A continuación definimos la forma polar $\\mathcal{G}$ a partir de $\\mathcal{P}$ y dos vectores de $\\mathbb{F}^n$. Recordemos cómo se define $\\mathcal{G}$ para polinomios homogéneos:\n",
    "\n",
    "$$\n",
    "\\mathcal{G}(\\mathbf{x},\\mathbf{y}) = \\mathcal{P}(\\mathbf{x}+\\mathbf{y}) - \\mathcal{P}(\\mathbf{x}) - \\mathcal{P}(\\mathbf{y}).\n",
    "$$"
   ]
  },
  {
   "cell_type": "code",
   "execution_count": 29,
   "id": "verbal-ancient",
   "metadata": {},
   "outputs": [],
   "source": [
    "def g(v1,v2):\n",
    "    return [p[i]([v1[j]+v2[j] for j in range(len(v1))])-p[i](v1)-p[i](v2) for i in range(len(p))]"
   ]
  },
  {
   "cell_type": "markdown",
   "id": "presidential-myrtle",
   "metadata": {},
   "source": [
    "Mediante la forma polar de $\\mathcal{P}$ junto a las seis variables anteriores, *Alice* crea los tres *challenges* que demuestran que conoce $\\mathbf{s}$. Dichos *challenges* dependerán de una función de *commitment* $Com(x,y)$, que ha de ser resistente a colisiones y preimágenes. Para simplificar y verificar los resultados, tomamos $Com = Id$. El lector de este notebook podrá cambiar la función `com(x,y)` como desee, pero es evidente que, si $x=x', y=y'$, entonces $Com(x,y) = Com(x',y')$ independientemente de la función *hash* escogida."
   ]
  },
  {
   "cell_type": "code",
   "execution_count": 30,
   "id": "stretch-petersburg",
   "metadata": {},
   "outputs": [
    {
     "name": "stdout",
     "output_type": "stream",
     "text": [
      "(([1, alpha + 1, alpha, 1], [0, 0, alpha + 1, alpha + 1, alpha, 1]), ([alpha + 1, 1, 1, alpha + 1], [0, alpha + 1, alpha + 1, 0, 0, 0]), ([1, alpha, alpha, 0], [alpha + 1, alpha, 0, 0, alpha, 1]))\n"
     ]
    }
   ],
   "source": [
    "def com(x,y):\n",
    "    return x,y\n",
    "\n",
    "c_0 = com(r_1 , [g(t_0,r_1)[i] + e_0[i] for i in range(m)])\n",
    "c_1 = com(t_0, e_0)\n",
    "c_2 = com(t_1, e_1)\n",
    "print((c_0,c_1,c_2))"
   ]
  },
  {
   "cell_type": "markdown",
   "id": "turned-structure",
   "metadata": {},
   "source": [
    "Por último, en la siguiente celda nos situamos desde el punto de vista de *Bob* y realizamos la comprobación pertinente en función del *challenge* elegido, a partir del cual *Alice* nos proveerá de la información necesaria. El lector puede desde este notebook asignar a `ch` un valor entre 0, 1 y 2 para elegir qué *challenge* comprobar."
   ]
  },
  {
   "cell_type": "code",
   "execution_count": 34,
   "id": "sharing-pierce",
   "metadata": {},
   "outputs": [
    {
     "name": "stdout",
     "output_type": "stream",
     "text": [
      "(([1, alpha + 1, alpha, 1], [0, 0, alpha + 1, alpha + 1, alpha, 1]), ([1, alpha, alpha, 0], [alpha + 1, alpha, 0, 0, alpha, 1]))\n",
      "Comprobaciones ch = 1:\n",
      "c_0: True\tc_2: True\n"
     ]
    }
   ],
   "source": [
    "ch = 1 # ch in {0,1,2}\n",
    "\n",
    "if ch==0:\n",
    "    c1_0 = com([r_0[i] - t_1[i] for i in range(n)],[p[i](r_0) - e_1[i] for i in range(m)])\n",
    "    c2_0 = com(t_1, e_1)\n",
    "    print(c1_0,c2_0)\n",
    "    print(\"Comprobaciones ch = 0:\")\n",
    "    print(\"c_1: \" + str(c1_0==c_1) + \"\\tc_2: \" + str(c2_0 == c_2))\n",
    "elif ch==1:\n",
    "    c0_1 = com(r_1,[v[i] - p[i](r_1) - g(t_1,r_1)[i] - e_1[i] for i in range(m)])\n",
    "    c2_1 = com(t_1, e_1)\n",
    "    print(c0_1,c2_1)\n",
    "    print(\"Comprobaciones ch = 1:\")\n",
    "    print(\"c_0: \" + str(c0_1==c_0) + \"\\tc_2: \" + str(c2_1 == c_2))\n",
    "elif ch==2:\n",
    "    c0_2 = com(r_1, [g(t_0,r_1)[i] + e_0[i] for i in range(m)])\n",
    "    c1_2 = com(t_0, e_0)\n",
    "    print(c0_2,c1_2)\n",
    "    print(\"Comprobaciones ch = 2:\")\n",
    "    print(\"c_0: \" + str(c0_2==c_0) + \"\\tc_1: \" + str(c1_2 == c_1))\n",
    "else:\n",
    "    print(\"ch invalida\")"
   ]
  },
  {
   "cell_type": "code",
   "execution_count": null,
   "id": "ordinary-equipment",
   "metadata": {},
   "outputs": [],
   "source": []
  }
 ],
 "metadata": {
  "kernelspec": {
   "display_name": "SageMath 8.7",
   "language": "",
   "name": "sagemath"
  },
  "language_info": {
   "codemirror_mode": {
    "name": "ipython",
    "version": 2
   },
   "file_extension": ".py",
   "mimetype": "text/x-python",
   "name": "python",
   "nbconvert_exporter": "python",
   "pygments_lexer": "ipython2",
   "version": "2.7.15"
  }
 },
 "nbformat": 4,
 "nbformat_minor": 5
}
