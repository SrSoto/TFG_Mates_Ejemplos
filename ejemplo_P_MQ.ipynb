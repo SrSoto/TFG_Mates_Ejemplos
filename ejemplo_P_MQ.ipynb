{
 "cells": [
  {
   "cell_type": "code",
   "execution_count": 86,
   "id": "heard-removal",
   "metadata": {},
   "outputs": [],
   "source": [
    "K.<a> = FiniteField(4)"
   ]
  },
  {
   "cell_type": "code",
   "execution_count": 87,
   "id": "virtual-cinema",
   "metadata": {},
   "outputs": [],
   "source": [
    "R.<x,y,z,w> = K[]"
   ]
  },
  {
   "cell_type": "code",
   "execution_count": 88,
   "id": "associate-score",
   "metadata": {},
   "outputs": [
    {
     "name": "stdout",
     "output_type": "stream",
     "text": [
      "(y*w + z*w + (a)*x, (a + 1)*x*y + (a + 1)*z + (a + 1), y*z + z*w + (a + 1)*w^2, (a + 1)*x*y + (a)*x + y + w)\n"
     ]
    }
   ],
   "source": [
    "p1 = R.random_element(degree=2)\n",
    "p2 = R.random_element(degree=2)\n",
    "p3 = R.random_element(degree=2)\n",
    "p4 = R.random_element(degree=2)\n",
    "\n",
    "p = (p1,p2,p3,p4)\n",
    "print(p)"
   ]
  },
  {
   "cell_type": "code",
   "execution_count": 89,
   "id": "partial-labor",
   "metadata": {},
   "outputs": [
    {
     "name": "stdout",
     "output_type": "stream",
     "text": [
      "[a, a, a + 1, 1]\n"
     ]
    }
   ],
   "source": [
    "s = [K.random_element() for _ in range(4)]\n",
    "print(s)"
   ]
  },
  {
   "cell_type": "code",
   "execution_count": 90,
   "id": "driven-paraguay",
   "metadata": {},
   "outputs": [
    {
     "data": {
      "text/plain": [
       "a"
      ]
     },
     "execution_count": 90,
     "metadata": {},
     "output_type": "execute_result"
    }
   ],
   "source": [
    "p1(s)"
   ]
  },
  {
   "cell_type": "code",
   "execution_count": 91,
   "id": "neural-johnston",
   "metadata": {},
   "outputs": [
    {
     "name": "stdout",
     "output_type": "stream",
     "text": [
      "[a, a + 1, 1, a]\n"
     ]
    }
   ],
   "source": [
    "v = [f(s) for f in p]\n",
    "print(v)"
   ]
  },
  {
   "cell_type": "code",
   "execution_count": 92,
   "id": "simplified-politics",
   "metadata": {},
   "outputs": [
    {
     "name": "stdout",
     "output_type": "stream",
     "text": [
      "([a + 1, a + 1, 1, 1], [a, a, 1, a], [1, 1, a, a + 1])\n"
     ]
    }
   ],
   "source": [
    "r_0 = [K.random_element() for _ in range(4)]\n",
    "t_0 = [K.random_element() for _ in range(4)]\n",
    "e_0 = [K.random_element() for _ in range(4)]\n",
    "\n",
    "print(r_0,t_0,e_0)"
   ]
  },
  {
   "cell_type": "code",
   "execution_count": 93,
   "id": "color-challenge",
   "metadata": {},
   "outputs": [
    {
     "name": "stdout",
     "output_type": "stream",
     "text": [
      "([1, 1, a, 0], [1, 1, 0, a + 1], [a, 0, a + 1, 1])\n"
     ]
    }
   ],
   "source": [
    "r_1 = [s[i] - r_0[i] for i in range(4)]\n",
    "t_1 = [r_0[i] - t_0[i] for i in range(4)]\n",
    "e_1 = [p[i](r_0) - e_0[i] for i in range(4)]\n",
    "\n",
    "print(r_1,t_1,e_1)"
   ]
  },
  {
   "cell_type": "code",
   "execution_count": 94,
   "id": "optional-museum",
   "metadata": {},
   "outputs": [],
   "source": [
    "def g(v1,v2):\n",
    "    return [p[i]([v1[j]+v2[j] for j in range(len(v1))])-p[i](v1)-p[i](v2) for i in range(len(p))]"
   ]
  },
  {
   "cell_type": "code",
   "execution_count": 96,
   "id": "binding-trademark",
   "metadata": {},
   "outputs": [
    {
     "name": "stdout",
     "output_type": "stream",
     "text": [
      "([1, 1, a, 0, 0, a, a + 1, a + 1], [a, a, 1, a, 1, 1, a, a + 1], [1, 1, 0, a + 1, a, 0, a + 1, 1])\n"
     ]
    }
   ],
   "source": [
    "c_0 = r_1 + [g(t_0,r_1)[i] + e_0[i] for i in range(4)]\n",
    "c_1 = t_0 + e_0\n",
    "c_2 = t_1 + e_1\n",
    "print(c_0,c_1,c_2)"
   ]
  },
  {
   "cell_type": "code",
   "execution_count": 105,
   "id": "twenty-handle",
   "metadata": {},
   "outputs": [
    {
     "name": "stdout",
     "output_type": "stream",
     "text": [
      "([1, 1, a, 0, 0, 1, a + 1, a + 1], [1, 1, 0, a + 1, a, 0, a + 1, 1])\n",
      "Comprobaciones ch = 0:\n",
      "c_0: False\tc_2: True\n"
     ]
    }
   ],
   "source": [
    "ch = 1 # ch in {0,1,2}\n",
    "\n",
    "if ch==0:\n",
    "    c1_0 = [r_0[i] - t_1[i] for i in range(4)] + [p[i](r_0) - e_1[i] for i in range(4)]\n",
    "    c2_0 = t_1 + e_1\n",
    "    print(c1_0,c2_0)\n",
    "    print(\"Comprobaciones ch = 0:\")\n",
    "    print(\"c_1: \" + str(c1_0==c_1) + \"\\tc_2: \" + str(c2_0 == c_2))\n",
    "elif ch==1:\n",
    "    c0_1 = r_1 + [v[i] - p[i](r_1) - g(t_1,r_1)[i] - e_1[i] for i in range(4)]\n",
    "    c2_1 = t_1 + e_1\n",
    "    print(c0_1,c2_1)\n",
    "    print(\"Comprobaciones ch = 0:\")\n",
    "    print(\"c_0: \" + str(c0_1==c_0) + \"\\tc_2: \" + str(c2_1 == c_2))\n",
    "elif ch==2:\n",
    "    c0_2 = r_1 + [r_1[i] - g(t_0,r_1)[i] + e_0[i] for i in range(4)]\n",
    "    c1_2 = t_0 + e_0\n",
    "    print(c0_2,c1_2)\n",
    "    print(\"Comprobaciones ch = 0:\")\n",
    "    print(\"c_0: \" + str(c0_2==c_0) + \"\\tc_1: \" + str(c1_2 == c_1))\n",
    "else:\n",
    "    print(\"ch invalida\")"
   ]
  },
  {
   "cell_type": "code",
   "execution_count": null,
   "id": "genuine-suggestion",
   "metadata": {},
   "outputs": [],
   "source": []
  }
 ],
 "metadata": {
  "kernelspec": {
   "display_name": "SageMath 8.7",
   "language": "",
   "name": "sagemath"
  },
  "language_info": {
   "codemirror_mode": {
    "name": "ipython",
    "version": 2
   },
   "file_extension": ".py",
   "mimetype": "text/x-python",
   "name": "python",
   "nbconvert_exporter": "python",
   "pygments_lexer": "ipython2",
   "version": "2.7.15"
  }
 },
 "nbformat": 4,
 "nbformat_minor": 5
}
